{
  "metadata": {
    "kernelspec": {
      "language": "python",
      "display_name": "Python 3",
      "name": "python3"
    },
    "language_info": {
      "name": "python",
      "version": "3.10.14",
      "mimetype": "text/x-python",
      "codemirror_mode": {
        "name": "ipython",
        "version": 3
      },
      "pygments_lexer": "ipython3",
      "nbconvert_exporter": "python",
      "file_extension": ".py"
    },
    "kaggle": {
      "accelerator": "none",
      "dataSources": [
        {
          "sourceId": 5173384,
          "sourceType": "datasetVersion",
          "datasetId": 2820786
        }
      ],
      "dockerImageVersionId": 30786,
      "isInternetEnabled": false,
      "language": "python",
      "sourceType": "notebook",
      "isGpuEnabled": false
    },
    "colab": {
      "name": "Best-Movie-length",
      "provenance": [],
      "include_colab_link": true
    }
  },
  "nbformat_minor": 0,
  "nbformat": 4,
  "cells": [
    {
      "cell_type": "markdown",
      "metadata": {
        "id": "view-in-github",
        "colab_type": "text"
      },
      "source": [
        "<a href=\"https://colab.research.google.com/github/Mostafa-Mohamed-Atef/Best-Movie-Runtime/blob/master/Best_Movie_length.ipynb\" target=\"_parent\"><img src=\"https://colab.research.google.com/assets/colab-badge.svg\" alt=\"Open In Colab\"/></a>"
      ]
    },
    {
      "source": [
        "# IMPORTANT: RUN THIS CELL IN ORDER TO IMPORT YOUR KAGGLE DATA SOURCES,\n",
        "# THEN FEEL FREE TO DELETE THIS CELL.\n",
        "# NOTE: THIS NOTEBOOK ENVIRONMENT DIFFERS FROM KAGGLE'S PYTHON\n",
        "# ENVIRONMENT SO THERE MAY BE MISSING LIBRARIES USED BY YOUR\n",
        "# NOTEBOOK.\n",
        "import kagglehub\n",
        "georgescutelnicu_top_100_popular_movies_from_2003_to_2022_imdb_path = kagglehub.dataset_download('georgescutelnicu/top-100-popular-movies-from-2003-to-2022-imdb')\n",
        "\n",
        "print('Data source import complete.')\n"
      ],
      "metadata": {
        "id": "0WFfc9ptJv3a"
      },
      "cell_type": "code",
      "outputs": [],
      "execution_count": null
    },
    {
      "cell_type": "code",
      "source": [
        "import kagglehub\n",
        "\n",
        "# Download latest version\n",
        "path = kagglehub.dataset_download(\"georgescutelnicu/top-100-popular-movies-from-2003-to-2022-imdb\")\n",
        "\n",
        "print(\"Path to dataset files:\", path)"
      ],
      "metadata": {
        "_uuid": "8f2839f25d086af736a60e9eeb907d3b93b6e0e5",
        "_cell_guid": "b1076dfc-b9ad-4769-8c92-a6c4dae69d19",
        "execution": {
          "iopub.status.busy": "2024-11-01T19:10:00.249735Z",
          "iopub.execute_input": "2024-11-01T19:10:00.250179Z",
          "iopub.status.idle": "2024-11-01T19:10:01.771306Z",
          "shell.execute_reply.started": "2024-11-01T19:10:00.250121Z",
          "shell.execute_reply": "2024-11-01T19:10:01.770122Z"
        },
        "trusted": true,
        "id": "z85NcQskJv3b",
        "outputId": "f1bb6021-57f8-4e07-c288-85a889ecfe3c"
      },
      "execution_count": null,
      "outputs": [
        {
          "name": "stdout",
          "text": "Path to dataset files: /kaggle/input/top-100-popular-movies-from-2003-to-2022-imdb\n",
          "output_type": "stream"
        }
      ]
    },
    {
      "cell_type": "code",
      "source": [
        "import pandas as pd"
      ],
      "metadata": {
        "execution": {
          "iopub.status.busy": "2024-11-01T19:10:26.458232Z",
          "iopub.execute_input": "2024-11-01T19:10:26.458788Z",
          "iopub.status.idle": "2024-11-01T19:10:26.87225Z",
          "shell.execute_reply.started": "2024-11-01T19:10:26.458746Z",
          "shell.execute_reply": "2024-11-01T19:10:26.871007Z"
        },
        "trusted": true,
        "id": "mMai7Y14Jv3c"
      },
      "execution_count": null,
      "outputs": []
    },
    {
      "cell_type": "code",
      "source": [
        "pd.read_csv(\"/kaggle/input/top-100-popular-movies-from-2003-to-2022-imdb/movies.csv\")"
      ],
      "metadata": {
        "execution": {
          "iopub.status.busy": "2024-11-01T19:13:06.160383Z",
          "iopub.execute_input": "2024-11-01T19:13:06.160877Z",
          "iopub.status.idle": "2024-11-01T19:13:06.235496Z",
          "shell.execute_reply.started": "2024-11-01T19:13:06.160835Z",
          "shell.execute_reply": "2024-11-01T19:13:06.233384Z"
        },
        "trusted": true,
        "id": "qmhcKSbgJv3d",
        "outputId": "eb76bb06-3ba0-466c-adab-2454db74be7c"
      },
      "execution_count": null,
      "outputs": [
        {
          "execution_count": 5,
          "output_type": "execute_result",
          "data": {
            "text/plain": "                                           Title  Rating  Year     Month  \\\n0                       Avatar: The Way of Water     7.8  2022  December   \n1                 Guillermo del Toro's Pinocchio     7.6  2022  December   \n2                                   Bullet Train     7.3  2022    August   \n3                      The Banshees of Inisherin     7.8  2022  November   \n4                                          M3gan     6.4  2022  December   \n...                                          ...     ...   ...       ...   \n1995                       A Tale of Two Sisters     7.1  2003      June   \n1996  Lara Croft Tomb Raider: The Cradle of Life     5.5  2003      July   \n1997                                     Gothika     5.8  2003  November   \n1998                   Ong-Bak: The Thai Warrior     7.1  2003  February   \n1999                                  Open Water     5.8  2003    August   \n\n     Certificate Runtime                           Directors  \\\n0          PG-13     192                       James Cameron   \n1             PG     117  Guillermo del Toro, Mark Gustafson   \n2              R     127                        David Leitch   \n3              R     114                     Martin McDonagh   \n4          PG-13     102                    Gerard Johnstone   \n...          ...     ...                                 ...   \n1995           R     114                        Jee woon Kim   \n1996       PG-13     117                         Jan de Bont   \n1997           R      98                   Mathieu Kassovitz   \n1998           R     105                     Prachya Pinkaew   \n1999           R      79                        Chris Kentis   \n\n                                                  Stars  \\\n0     Sam Worthington, Zoe Saldana, Sigourney Weaver...   \n1     Ewan McGregor, David Bradley, Gregory Mann, Bu...   \n2     Brad Pitt, Joey King, Aaron Taylor Johnson, Br...   \n3     Colin Farrell, Brendan Gleeson, Kerry Condon, ...   \n4     Jenna Davis, Amie Donald, Allison Williams, Vi...   \n...                                                 ...   \n1995  Lim Soo jung, Yum Jung ah, Kim Kap su, Moon Ge...   \n1996  Angelina Jolie, Gerard Butler, Chris Barrie, C...   \n1997  Halle Berry, Pen lope Cruz, Robert Downey Jr ,...   \n1998  Tony Jaa, Phetthai Vongkumlao, Pumwaree Yodkam...   \n1999  Blanchard Ryan, Daniel Travis, Saul Stein, Mic...   \n\n                           Genre Filming_location         Budget  \\\n0     Action, Adventure, Fantasy      New Zealand  $350,000,000    \n1       Animation, Drama, Family              USA   $35,000,000    \n2       Action, Comedy, Thriller            Japan   $85,900,000    \n3                  Comedy, Drama          Ireland        Unknown   \n4       Horror, Sci-Fi, Thriller      New Zealand   $12,000,000    \n...                          ...              ...            ...   \n1995      Drama, Horror, Mystery      South Korea        Unknown   \n1996  Action, Adventure, Fantasy           Greece   $95,000,000    \n1997   Horror, Mystery, Thriller           Canada   $40,000,000    \n1998     Action, Crime, Thriller         Thailand        Unknown   \n1999    Adventure, Drama, Horror          Bahamas      $500,000    \n\n               Income                                  Country_of_origin  \n0     $2,267,946,983                                       United States  \n1           $108,967                       United States, Mexico, France  \n2       $239,268,602                                Japan, United States  \n3        $19,720,823              Ireland, United Kingdom, United States  \n4       $171,253,910                                       United States  \n...               ...                                                ...  \n1995      $1,062,878                                         South Korea  \n1996    $160,099,222   United States, Germany, Japan, United Kingdom,...  \n1997    $141,591,324                United States, France, Canada, Spain  \n1998     $20,235,426                         Thailand, France, Hong Kong  \n1999     $54,683,487                                       United States  \n\n[2000 rows x 13 columns]",
            "text/html": "<div>\n<style scoped>\n    .dataframe tbody tr th:only-of-type {\n        vertical-align: middle;\n    }\n\n    .dataframe tbody tr th {\n        vertical-align: top;\n    }\n\n    .dataframe thead th {\n        text-align: right;\n    }\n</style>\n<table border=\"1\" class=\"dataframe\">\n  <thead>\n    <tr style=\"text-align: right;\">\n      <th></th>\n      <th>Title</th>\n      <th>Rating</th>\n      <th>Year</th>\n      <th>Month</th>\n      <th>Certificate</th>\n      <th>Runtime</th>\n      <th>Directors</th>\n      <th>Stars</th>\n      <th>Genre</th>\n      <th>Filming_location</th>\n      <th>Budget</th>\n      <th>Income</th>\n      <th>Country_of_origin</th>\n    </tr>\n  </thead>\n  <tbody>\n    <tr>\n      <th>0</th>\n      <td>Avatar: The Way of Water</td>\n      <td>7.8</td>\n      <td>2022</td>\n      <td>December</td>\n      <td>PG-13</td>\n      <td>192</td>\n      <td>James Cameron</td>\n      <td>Sam Worthington, Zoe Saldana, Sigourney Weaver...</td>\n      <td>Action, Adventure, Fantasy</td>\n      <td>New Zealand</td>\n      <td>$350,000,000</td>\n      <td>$2,267,946,983</td>\n      <td>United States</td>\n    </tr>\n    <tr>\n      <th>1</th>\n      <td>Guillermo del Toro's Pinocchio</td>\n      <td>7.6</td>\n      <td>2022</td>\n      <td>December</td>\n      <td>PG</td>\n      <td>117</td>\n      <td>Guillermo del Toro, Mark Gustafson</td>\n      <td>Ewan McGregor, David Bradley, Gregory Mann, Bu...</td>\n      <td>Animation, Drama, Family</td>\n      <td>USA</td>\n      <td>$35,000,000</td>\n      <td>$108,967</td>\n      <td>United States, Mexico, France</td>\n    </tr>\n    <tr>\n      <th>2</th>\n      <td>Bullet Train</td>\n      <td>7.3</td>\n      <td>2022</td>\n      <td>August</td>\n      <td>R</td>\n      <td>127</td>\n      <td>David Leitch</td>\n      <td>Brad Pitt, Joey King, Aaron Taylor Johnson, Br...</td>\n      <td>Action, Comedy, Thriller</td>\n      <td>Japan</td>\n      <td>$85,900,000</td>\n      <td>$239,268,602</td>\n      <td>Japan, United States</td>\n    </tr>\n    <tr>\n      <th>3</th>\n      <td>The Banshees of Inisherin</td>\n      <td>7.8</td>\n      <td>2022</td>\n      <td>November</td>\n      <td>R</td>\n      <td>114</td>\n      <td>Martin McDonagh</td>\n      <td>Colin Farrell, Brendan Gleeson, Kerry Condon, ...</td>\n      <td>Comedy, Drama</td>\n      <td>Ireland</td>\n      <td>Unknown</td>\n      <td>$19,720,823</td>\n      <td>Ireland, United Kingdom, United States</td>\n    </tr>\n    <tr>\n      <th>4</th>\n      <td>M3gan</td>\n      <td>6.4</td>\n      <td>2022</td>\n      <td>December</td>\n      <td>PG-13</td>\n      <td>102</td>\n      <td>Gerard Johnstone</td>\n      <td>Jenna Davis, Amie Donald, Allison Williams, Vi...</td>\n      <td>Horror, Sci-Fi, Thriller</td>\n      <td>New Zealand</td>\n      <td>$12,000,000</td>\n      <td>$171,253,910</td>\n      <td>United States</td>\n    </tr>\n    <tr>\n      <th>...</th>\n      <td>...</td>\n      <td>...</td>\n      <td>...</td>\n      <td>...</td>\n      <td>...</td>\n      <td>...</td>\n      <td>...</td>\n      <td>...</td>\n      <td>...</td>\n      <td>...</td>\n      <td>...</td>\n      <td>...</td>\n      <td>...</td>\n    </tr>\n    <tr>\n      <th>1995</th>\n      <td>A Tale of Two Sisters</td>\n      <td>7.1</td>\n      <td>2003</td>\n      <td>June</td>\n      <td>R</td>\n      <td>114</td>\n      <td>Jee woon Kim</td>\n      <td>Lim Soo jung, Yum Jung ah, Kim Kap su, Moon Ge...</td>\n      <td>Drama, Horror, Mystery</td>\n      <td>South Korea</td>\n      <td>Unknown</td>\n      <td>$1,062,878</td>\n      <td>South Korea</td>\n    </tr>\n    <tr>\n      <th>1996</th>\n      <td>Lara Croft Tomb Raider: The Cradle of Life</td>\n      <td>5.5</td>\n      <td>2003</td>\n      <td>July</td>\n      <td>PG-13</td>\n      <td>117</td>\n      <td>Jan de Bont</td>\n      <td>Angelina Jolie, Gerard Butler, Chris Barrie, C...</td>\n      <td>Action, Adventure, Fantasy</td>\n      <td>Greece</td>\n      <td>$95,000,000</td>\n      <td>$160,099,222</td>\n      <td>United States, Germany, Japan, United Kingdom,...</td>\n    </tr>\n    <tr>\n      <th>1997</th>\n      <td>Gothika</td>\n      <td>5.8</td>\n      <td>2003</td>\n      <td>November</td>\n      <td>R</td>\n      <td>98</td>\n      <td>Mathieu Kassovitz</td>\n      <td>Halle Berry, Pen lope Cruz, Robert Downey Jr ,...</td>\n      <td>Horror, Mystery, Thriller</td>\n      <td>Canada</td>\n      <td>$40,000,000</td>\n      <td>$141,591,324</td>\n      <td>United States, France, Canada, Spain</td>\n    </tr>\n    <tr>\n      <th>1998</th>\n      <td>Ong-Bak: The Thai Warrior</td>\n      <td>7.1</td>\n      <td>2003</td>\n      <td>February</td>\n      <td>R</td>\n      <td>105</td>\n      <td>Prachya Pinkaew</td>\n      <td>Tony Jaa, Phetthai Vongkumlao, Pumwaree Yodkam...</td>\n      <td>Action, Crime, Thriller</td>\n      <td>Thailand</td>\n      <td>Unknown</td>\n      <td>$20,235,426</td>\n      <td>Thailand, France, Hong Kong</td>\n    </tr>\n    <tr>\n      <th>1999</th>\n      <td>Open Water</td>\n      <td>5.8</td>\n      <td>2003</td>\n      <td>August</td>\n      <td>R</td>\n      <td>79</td>\n      <td>Chris Kentis</td>\n      <td>Blanchard Ryan, Daniel Travis, Saul Stein, Mic...</td>\n      <td>Adventure, Drama, Horror</td>\n      <td>Bahamas</td>\n      <td>$500,000</td>\n      <td>$54,683,487</td>\n      <td>United States</td>\n    </tr>\n  </tbody>\n</table>\n<p>2000 rows × 13 columns</p>\n</div>"
          },
          "metadata": {}
        }
      ]
    },
    {
      "cell_type": "code",
      "source": [],
      "metadata": {
        "id": "18W9ZuKQJv3e"
      },
      "execution_count": null,
      "outputs": []
    }
  ]
}